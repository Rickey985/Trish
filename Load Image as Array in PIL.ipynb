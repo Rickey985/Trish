{
 "cells": [
  {
   "cell_type": "code",
   "execution_count": 26,
   "id": "f175251f",
   "metadata": {},
   "outputs": [],
   "source": [
    "from PIL import Image, ImageFilter\n",
    "import numpy as np"
   ]
  },
  {
   "cell_type": "code",
   "execution_count": 7,
   "id": "04ea73d8",
   "metadata": {},
   "outputs": [
    {
     "name": "stdout",
     "output_type": "stream",
     "text": [
      "(280, 180)\n",
      "RGB\n"
     ]
    }
   ],
   "source": [
    "#Getting PIL to examine the image.\n",
    "image=Image.open('garbage_classification/battery/battery1.jpg')\n",
    "print(image.size)\n",
    "print(image.mode)\n",
    "# image.show()\n",
    "image.close()"
   ]
  },
  {
   "cell_type": "code",
   "execution_count": 17,
   "id": "27285833",
   "metadata": {},
   "outputs": [
    {
     "name": "stdout",
     "output_type": "stream",
     "text": [
      "<class 'PIL.Image.Image'>\n",
      "(300, 300)\n",
      "<class 'numpy.ndarray'>\n",
      "(300, 300, 3)\n"
     ]
    }
   ],
   "source": [
    "#Working with Numpy and image as array:\n",
    "image=Image.open('garbage_classification/battery/battery1.jpg').resize((300,300))\n",
    "my_array=np.asarray(image)\n",
    "print(type(image))\n",
    "print(image.size)\n",
    "print(type(my_array))\n",
    "print(my_array.shape)\n",
    "image.show()"
   ]
  },
  {
   "cell_type": "code",
   "execution_count": 25,
   "id": "46246ec4",
   "metadata": {},
   "outputs": [],
   "source": [
    "#RGB Split in PIL\n",
    "zeroed_band = red.point(lambda _: 0)\n",
    "image=Image.open('garbage_classification/battery/battery1.jpg')\n",
    "red, green, blue = image.split()\n",
    "red_merge=Image.merge(\"RGB\", (red, zeroed_band, zeroed_band))\n",
    "blue_merge=Image.merge(\"RGB\", (zeroed_band, blue, zeroed_band))\n",
    "green_merge=Image.merge(\"RGB\", (zeroed_band, zeroed_band, green))\n",
    "red_merge.show()\n",
    "blue_merge.show()\n",
    "green_merge.show()"
   ]
  },
  {
   "cell_type": "code",
   "execution_count": 27,
   "id": "9ee4e395",
   "metadata": {},
   "outputs": [],
   "source": [
    "#Blur image in PIL\n",
    "image=Image.open('garbage_classification/battery/battery1.jpg')\n",
    "image=image.filter(ImageFilter.BLUR)\n",
    "image.show()"
   ]
  },
  {
   "cell_type": "code",
   "execution_count": null,
   "id": "a57a1e29",
   "metadata": {},
   "outputs": [],
   "source": []
  }
 ],
 "metadata": {
  "kernelspec": {
   "display_name": "Python 3 (ipykernel)",
   "language": "python",
   "name": "python3"
  },
  "language_info": {
   "codemirror_mode": {
    "name": "ipython",
    "version": 3
   },
   "file_extension": ".py",
   "mimetype": "text/x-python",
   "name": "python",
   "nbconvert_exporter": "python",
   "pygments_lexer": "ipython3",
   "version": "3.10.4"
  }
 },
 "nbformat": 4,
 "nbformat_minor": 5
}
